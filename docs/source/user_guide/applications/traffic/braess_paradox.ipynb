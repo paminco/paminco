{
 "cells": [
  {
   "cell_type": "markdown",
   "metadata": {},
   "source": [
    "# Braess Paradox"
   ]
  },
  {
   "cell_type": "markdown",
   "metadata": {},
   "source": [
    "[Braess paradox](https://en.wikipedia.org/wiki/Braess%27s_paradox) refers to the finding that total network efficiency in the user equilibrium may recline if the network is equipped with extra capacity, i.e., a road is added to the network.\n",
    "Consider the following network, also referred to as Braess Network.\n",
    "\n",
    "```{figure} ./img/braess.jpg\n",
    "  :name: braess\n",
    "  :width: 70%\n",
    "\n",
    "  Braess paradox. \n",
    "```\n",
    "## Network specifications\n",
    "Drivers wish to travel from vertex $A$ to vertex $B$, and in the default case (i.e., without the articial edge connecting $V_1$ and $V_2$) can travel on the upper arc $A \\rightarrow V_1 \\rightarrow B$ or lower arc $A \\rightarrow V_2 \\rightarrow B$. \n",
    "The specific setup of this variant of the Braess paradox is taken from [here](https://vcp.med.harvard.edu/braess-paradox.html).\n",
    "\n",
    "Both arcs combine a short bridge and a motorway. The traffic time on the motorways is independent of the amount of cars and it \"fixed\" at ``15 minutes``.\n",
    "In contrast, on the bridges the travel time increases with drivers and is defined as ``(flow / 100) minutes``.\n",
    "Naturally, one finds an user equilibrium where both arcs have the same flow. E.g, if the total demand consists of 1000 drivers travelling from A to B, all edges have a flow of 500."
   ]
  },
  {
   "cell_type": "markdown",
   "metadata": {},
   "source": [
    "## 1. User equilibrium"
   ]
  },
  {
   "cell_type": "markdown",
   "metadata": {},
   "source": [
    "This is easily computed by hand or with the {{ packagename }} package:"
   ]
  },
  {
   "cell_type": "code",
   "execution_count": 3,
   "metadata": {},
   "outputs": [
    {
     "data": {
      "text/plain": [
       "array([500., 500., 500., 500.])"
      ]
     },
     "execution_count": 3,
     "metadata": {},
     "output_type": "execute_result"
    }
   ],
   "source": [
    "import paminco\n",
    "import numpy as np\n",
    "\n",
    "edge_data = np.array([[\"A\", \"v1\"],\n",
    "                      [\"A\", \"v2\"],\n",
    "                      [\"v1\", \"B\"],\n",
    "                      [\"v2\", \"B\"],\n",
    "                      ])\n",
    "marginal_cost = np.array([\n",
    "  [0, 1/100],  # Bridge A     -> flow/100 minutes\n",
    "  [15, 0],     # Route R      -> 15 minutes\n",
    "  [15, 0],     # Route L      -> 15 minutes\n",
    "  [0, 1/100],  # Bridge B     -> flow/100 minutes\n",
    "])\n",
    "demand_data = (\"A\", \"B\", 1000)\n",
    "\n",
    "braess = paminco.Network(\n",
    "  edge_data=edge_data, \n",
    "  cost_data=marginal_cost, \n",
    "  demand_data=demand_data,\n",
    ")\n",
    "braess.integrate_cost()  # user equilibrium\n",
    "\n",
    "fw = paminco.NetworkFW(braess)\n",
    "fw.run(print=False, epsilon=1e-6)\n",
    "fw.x.round(2)"
   ]
  },
  {
   "cell_type": "markdown",
   "metadata": {},
   "source": [
    "where we find a travel time of ``20 minutes`` for the lower and upper route:"
   ]
  },
  {
   "cell_type": "code",
   "execution_count": 4,
   "metadata": {},
   "outputs": [
    {
     "name": "stdout",
     "output_type": "stream",
     "text": [
      "route 1: 20.0 minutes\n",
      "route 2: 20.0 minutes\n"
     ]
    }
   ],
   "source": [
    "def route1(x):\n",
    "    return braess.cost.f(x)[[0, 1]].sum()\n",
    "\n",
    "def route2(x):\n",
    "    return braess.cost.f(x)[[2, 3]].sum()\n",
    "\n",
    "print(f\"route 1: {route1(fw.x).round(2)} minutes\")\n",
    "print(f\"route 2: {route1(fw.x).round(2)} minutes\")"
   ]
  },
  {
   "cell_type": "markdown",
   "metadata": {},
   "source": [
    "## 2. User equilibrium with artificial road"
   ]
  },
  {
   "cell_type": "markdown",
   "metadata": {},
   "source": [
    "The government may decide that it would be helpful to add another road, which connects vertices $V_1$ and $V_2$ and only takes ``7.5 minutes`` to pass:"
   ]
  },
  {
   "cell_type": "code",
   "execution_count": 5,
   "metadata": {},
   "outputs": [
    {
     "data": {
      "text/plain": [
       "array([750., 250., 250., 750., 500.])"
      ]
     },
     "execution_count": 5,
     "metadata": {},
     "output_type": "execute_result"
    }
   ],
   "source": [
    "edge_data = np.array([[\"A\", \"v1\"],\n",
    "                      [\"A\", \"v2\"],\n",
    "                      [\"v1\", \"B\"],\n",
    "                      [\"v2\", \"B\"],\n",
    "                      [\"v1\", \"v2\"],\n",
    "                      ])\n",
    "marginal_cost = np.array([\n",
    "  [0, 1/100],  # Bridge A     -> flow/100 minutes\n",
    "  [15, 0],     # Route R      -> 15 minutes\n",
    "  [15, 0],     # Route L      -> 15 minutes\n",
    "  [0, 1/100],  # Bridge B     -> flow/100 minutes\n",
    "  [7.5, 0]     # Super Road   -> 7.5 minutes\n",
    "])\n",
    "demand_data = (\"A\", \"B\", 1000)\n",
    "\n",
    "braess_artificial = paminco.Network(\n",
    "  edge_data=edge_data, \n",
    "  cost_data=marginal_cost, \n",
    "  demand_data=demand_data,\n",
    ")\n",
    "braess_artificial.integrate_cost()\n",
    "\n",
    "fw2 = paminco.NetworkFW(braess_artificial)\n",
    "fw2.run(print=False, epsilon=1e-6)\n",
    "fw2.x.round(2)"
   ]
  },
  {
   "cell_type": "markdown",
   "metadata": {},
   "source": [
    "Half of the drivers (500) use this new super road and the government is happy about its efforts. However, all participants now take ``22.5 minutes`` to get from $A$ to $B$. The road to hell..."
   ]
  },
  {
   "cell_type": "code",
   "execution_count": 6,
   "metadata": {},
   "outputs": [
    {
     "name": "stdout",
     "output_type": "stream",
     "text": [
      "route 1: 22.5 minutes\n",
      "route 2: 22.5 minutes\n",
      "route 3: 22.5 minutes\n"
     ]
    }
   ],
   "source": [
    "def route1(x):\n",
    "    return braess_artificial.cost.f(x)[[0, 1]].sum()\n",
    "\n",
    "def route2(x):\n",
    "    return braess_artificial.cost.f(x)[[2, 3]].sum()\n",
    "\n",
    "def route3(x):\n",
    "    return braess_artificial.cost.f(x)[[0, 4, 3]].sum()\n",
    "\n",
    "print(f\"route 1: {route1(fw2.x).round(2)} minutes\")\n",
    "print(f\"route 2: {route2(fw2.x).round(2)} minutes\")\n",
    "print(f\"route 3: {route3(fw2.x).round(2)} minutes\")"
   ]
  }
 ],
 "metadata": {
  "interpreter": {
   "hash": "86685080231f9b02213e3a45f235f7a553419c42ebb04b873282518ce43d9a76"
  },
  "kernelspec": {
   "display_name": "Python 3.9.7 64-bit (conda)",
   "name": "python3"
  },
  "language_info": {
   "codemirror_mode": {
    "name": "ipython",
    "version": 3
   },
   "file_extension": ".py",
   "mimetype": "text/x-python",
   "name": "python",
   "nbconvert_exporter": "python",
   "pygments_lexer": "ipython3",
   "version": "3.8.8"
  },
  "orig_nbformat": 4
 },
 "nbformat": 4,
 "nbformat_minor": 2
}
