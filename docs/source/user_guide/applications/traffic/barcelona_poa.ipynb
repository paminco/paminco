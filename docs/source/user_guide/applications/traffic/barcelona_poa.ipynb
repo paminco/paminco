{
 "cells": [
  {
   "cell_type": "markdown",
   "metadata": {},
   "source": [
    "# Price of Anarchy - Barcelona"
   ]
  },
  {
   "cell_type": "markdown",
   "metadata": {},
   "source": [
    "## 1. Imports and network readin"
   ]
  },
  {
   "cell_type": "markdown",
   "metadata": {},
   "source": [
    "First, we import the *paminco* and some other packages and download the traffic data for Barcelona from [GitHub](https://github.com/bstabler/TransportationNetworks/tree/master/Barcelona):"
   ]
  },
  {
   "cell_type": "code",
   "execution_count": 1,
   "metadata": {},
   "outputs": [],
   "source": [
    "import os\n",
    "import requests\n",
    "\n",
    "import paminco\n",
    "\n",
    "URL = \"https://raw.githubusercontent.com/bstabler/TransportationNetworks/master/Barcelona/\"\n",
    "netfile = \"Barcelona_net.tntp\"\n",
    "tripsfile = \"Barcelona_trips.tntp\"\n",
    "\n",
    "# Load from GitHub and save locally\n",
    "for f in [netfile, tripsfile]:\n",
    "    url = os.path.join(URL, f)\n",
    "    response = requests.get(url)\n",
    "    with open(f, 'wb') as fh:\n",
    "        fh.write(response.content)"
   ]
  },
  {
   "cell_type": "markdown",
   "metadata": {},
   "source": [
    "Note that the power factor $p_e$ for the link travel time $l_e(x_e) = \\text{fft}_e \\cdot \\left( 1 + B_e \\cdot \\left(\\frac{x}{\\text{cap}_e}\\right) ^ {p_e} \\right)$ is ``not`` an integer for the Barcelona network, where we find power factors such  ``4.446, 4.924, ...``.\n",
    "\n",
    "However, we can equip a network with custom cost functions by setting ``cost_type=symbolic``:"
   ]
  },
  {
   "cell_type": "code",
   "execution_count": 2,
   "metadata": {},
   "outputs": [],
   "source": [
    "# Setup network\n",
    "net = paminco.Network.from_tntp(netfile, tripsfile=tripsfile, cost_type=\"symbolic\")\n",
    "\n",
    "# Cleanup\n",
    "for f in [netfile, tripsfile]:\n",
    "    os.remove(f)"
   ]
  },
  {
   "cell_type": "markdown",
   "metadata": {},
   "source": [
    "## 2. Setting up network cost"
   ]
  },
  {
   "cell_type": "markdown",
   "metadata": {},
   "source": [
    "Second, we set up SymbolicCost, defining the edge cost $F_e$ and thus the objective function to calculate both user equilibrium (UE) and system optimum (SO).\n",
    "We find minimum cost flows for user equilibrium and system optimum if we transform the edge cost by:\n",
    "\n",
    "$$\n",
    "\\begin{align}\n",
    "    \\text{User equilibrium:} \\quad F_e &= \\int_0^{x_e} l_e(s) ds \\\\ \n",
    "    \\text{System optimum:} \\quad F_e &= x_e \\cdot l_e \\\\ \n",
    "\\end{align}\n",
    "$$\n",
    "\n",
    "Note that [Frank-Wolfe](https://en.wikipedia.org/wiki/Frank%E2%80%93Wolfe_algorithm) requires the first derivative of the objective function.\n",
    "Thus, we have to specfiy edge cost $F_e$ and marginal edge cost $f_e$.\n"
   ]
  },
  {
   "cell_type": "code",
   "execution_count": 3,
   "metadata": {},
   "outputs": [],
   "source": [
    "# User equilibrium cost funcs (egde cost and marginal edge cost)\n",
    "ue_F = \"fft * (x + b * x / (p + 1) * (x / c)**p)\"\n",
    "ue_f = \"fft * (1 + b * (x / c)**p)\"\n",
    "\n",
    "# System optimum cost funcs (egde cost and marginal edge cost)\n",
    "so_F = \"x * fft * (1 + b * x**p * c**(-p))\"\n",
    "so_f = \"fft + fft * b * (p + 1) * c**(-p) * x**(p)\"\n",
    "\n",
    "net.cost.coeffs[\"fft\"] = net.cost.coeffs[\"free_flow_time\"]\n",
    "net.cost.coeffs[\"c\"] = net.cost.coeffs[\"capacity\"]\n",
    "net.cost.coeffs[\"p\"] = net.cost.coeffs[\"power\"]"
   ]
  },
  {
   "cell_type": "markdown",
   "metadata": {},
   "source": [
    "## 3. Find UE and SO flow"
   ]
  },
  {
   "cell_type": "markdown",
   "metadata": {},
   "source": [
    "Finally, we equip our network with both cost functions instances and run Frank-Wolfe to find a minimum cost flow:"
   ]
  },
  {
   "cell_type": "code",
   "execution_count": 4,
   "metadata": {},
   "outputs": [],
   "source": [
    "# copy networks\n",
    "from copy import deepcopy\n",
    "\n",
    "# user equilibrium\n",
    "net_ue = deepcopy(net)\n",
    "net_ue.cost.funcs[\"F\"] = ue_F\n",
    "net_ue.cost.funcs[\"f\"] = ue_f\n",
    "fw_ue = paminco.NetworkFW(net_ue)\n",
    "fw_ue.run(max_iter=10, print=False)\n",
    "\n",
    "# system optimum\n",
    "net_so = deepcopy(net)\n",
    "net_so.cost.funcs[\"F\"] = so_F\n",
    "net_so.cost.funcs[\"f\"] = so_f\n",
    "fw_so = paminco.NetworkFW(net_so)\n",
    "fw_so.run(max_iter=10, print=False)"
   ]
  },
  {
   "cell_type": "markdown",
   "metadata": {},
   "source": [
    "For example, we can easily access the user equilibrium flow by:"
   ]
  },
  {
   "cell_type": "code",
   "execution_count": 5,
   "metadata": {},
   "outputs": [
    {
     "data": {
      "text/plain": [
       "array([1062.3604087 , 1183.7485913 ,    0.        , ..., 1061.32166004,\n",
       "          0.        , 4203.83150619])"
      ]
     },
     "execution_count": 5,
     "metadata": {},
     "output_type": "execute_result"
    }
   ],
   "source": [
    "fw_ue.x"
   ]
  },
  {
   "cell_type": "markdown",
   "metadata": {},
   "source": [
    "## 4. Price of Anarchy"
   ]
  },
  {
   "cell_type": "markdown",
   "metadata": {},
   "source": [
    "The objective function to calculate the system optimum is the total system travel time (TSTT):\n",
    "\n",
    "$$\n",
    "\\begin{equation*}\n",
    "    \\text{TSTT}(\\mathbf{x}) = \\sum_{e \\in E} x_{e} \\cdot l_{e}(x_e)\n",
    "\\end{equation*}\n",
    "$$"
   ]
  },
  {
   "cell_type": "code",
   "execution_count": 6,
   "metadata": {},
   "outputs": [],
   "source": [
    "def TTST(x):\n",
    "    return net_so.cost(x).sum()"
   ]
  },
  {
   "cell_type": "markdown",
   "metadata": {},
   "source": [
    "We find that the total system travel time for Barcelona is increased by about ``0.9 percent`` if users behave selfishly:"
   ]
  },
  {
   "cell_type": "code",
   "execution_count": 7,
   "metadata": {},
   "outputs": [
    {
     "data": {
      "text/plain": [
       "1.0088344480937708"
      ]
     },
     "execution_count": 7,
     "metadata": {},
     "output_type": "execute_result"
    }
   ],
   "source": [
    "poa = TTST(fw_ue.flow) / TTST(fw_so.flow)\n",
    "poa"
   ]
  }
 ],
 "metadata": {
  "interpreter": {
   "hash": "219b3df7192d91ed2c6095be311216c9c65acbd817ae748f854d329ca7110587"
  },
  "kernelspec": {
   "display_name": "Python 3.8.8 64-bit ('flowing': conda)",
   "language": "python",
   "name": "python3"
  },
  "language_info": {
   "codemirror_mode": {
    "name": "ipython",
    "version": 3
   },
   "file_extension": ".py",
   "mimetype": "text/x-python",
   "name": "python",
   "nbconvert_exporter": "python",
   "pygments_lexer": "ipython3",
   "version": "3.8.8"
  },
  "orig_nbformat": 4
 },
 "nbformat": 4,
 "nbformat_minor": 2
}
