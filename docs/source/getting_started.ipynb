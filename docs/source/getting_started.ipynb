{
 "cells": [
  {
   "cell_type": "markdown",
   "metadata": {},
   "source": [
    "# Getting Started"
   ]
  },
  {
   "cell_type": "markdown",
   "metadata": {},
   "source": [
    "## Installation"
   ]
  },
  {
   "cell_type": "markdown",
   "metadata": {},
   "source": [
    "The latest version of the paminco package and the necessary dependencies can be installed directly \n",
    "from GitHub using ``pip``:\n",
    "\n",
    "```bash\n",
    "pip install git+https://github.com/paminco/paminco.git\n",
    "```"
   ]
  },
  {
   "cell_type": "markdown",
   "metadata": {},
   "source": [
    "## Simple MCA example"
   ]
  },
  {
   "cell_type": "markdown",
   "metadata": {},
   "source": [
    "Consider the following graph where four vertices ($s, v_1, v_2, t$) are connected with five edges. \n",
    "\n",
    "```{figure} graph.png\n",
    "  :name: mca_ex\n",
    "  :width: 60%\n",
    "\n",
    "  Simple graph with cost functions. \n",
    "```\n",
    "\n",
    "For each edge a cost function $F_e$ is specified, e.g. the cost on edge $e_1$ given an edge flow $x_1$ \n",
    "are $F_{e_1}(x_1) = x_1^2$.\n",
    "We can setup the above network by specifying edge, cost and demand data as follows:"
   ]
  },
  {
   "cell_type": "code",
   "execution_count": 8,
   "metadata": {},
   "outputs": [],
   "source": [
    "import numpy as np\n",
    "from paminco import Network, MCA\n",
    "\n",
    "edge_data = np.array([[ \"s\", \"v1\"],\n",
    "                      [ \"s\", \"v2\"],\n",
    "                      [\"v1\", \"v2\"],\n",
    "                      [\"v1\",  \"t\"],\n",
    "                      [\"v2\",  \"t\"]])\n",
    "poly_cost = np.array([[0, 0, 1],   # F_0(x) = 0 * x^0 + 0 * x^1 + 1 * x^2\n",
    "                      [0, 3, 0.5], # F_0(x) = 0 * x^0 + 3 * x^1 + 0.5 * x^2\n",
    "                      [0, 0, 0.5],\n",
    "                      [0, 3, 0.5],\n",
    "                      [0, 0, 1]])\n",
    "demand_data = ((\"s\", \"t\", 1))\n",
    "d = {\"s\": 0, \"v1\": 1, \"v2\": 2, \"t\": 3}  # determines how labels are mapped to indices\n",
    "net = Network(edge_data,\n",
    "              cost_data=poly_cost,\n",
    "              demand_data=demand_data,\n",
    "              kw_edge={\"map_labels_to_indices\": d})"
   ]
  },
  {
   "cell_type": "markdown",
   "metadata": {},
   "source": [
    "A parametric mincost flow can be found with the MCA algorithm:"
   ]
  },
  {
   "cell_type": "code",
   "execution_count": 9,
   "metadata": {},
   "outputs": [
    {
     "name": "stdout",
     "output_type": "stream",
     "text": [
      "Iteration    1 | λ ∈ [0.000, 1.000]   | ↑ e* = 3 ∈ E* = [1, 3]\n",
      "Iteration    2 | λ ∈ [1.000, 1.000]   | ↑ e* = 1\n",
      "Iteration    3 | λ ∈ [1.000, 6.000]   | ↓ e* = 2\n",
      "Iteration    4 | λ ∈ [6.000, inf]     | ↓ e* = 2 ∈ E* = [0, 1, 2, 3, 4] | EFABreakFlag.LAMBDA_INF\n"
     ]
    }
   ],
   "source": [
    "mca = MCA(net, lambda_max=8)\n",
    "mca.run(print=True)"
   ]
  },
  {
   "cell_type": "markdown",
   "metadata": {},
   "source": [
    "This results in the following parametric edge flows, the mincost flow on an edge w.r.t. to the \n",
    "demand factor $\\lambda$."
   ]
  },
  {
   "cell_type": "code",
   "execution_count": 10,
   "metadata": {},
   "outputs": [
    {
     "data": {
      "text/plain": [
       "Text(0, 0.5, 'edge flow')"
      ]
     },
     "execution_count": 10,
     "metadata": {},
     "output_type": "execute_result"
    },
    {
     "data": {
      "image/png": "[encoded data removed]",
      "text/plain": [
       "<Figure size 720x360 with 1 Axes>"
      ]
     },
     "metadata": {
      "needs_background": "light"
     },
     "output_type": "display_data"
    }
   ],
   "source": [
    "import matplotlib.pyplot as plt\n",
    "fig, ax = plt.subplots(figsize=(10, 5))\n",
    "x = np.linspace(0, 8, 9)\n",
    "mca.plot_flow_on_edge(0, x, ax=ax, color=\"black\")\n",
    "mca.plot_flow_on_edge(1, x, ax=ax, color=\"black\", linestyle=\"dashed\")\n",
    "mca.plot_flow_on_edge(2, x, ax=ax, color=\"black\", linestyle=\"dotted\")\n",
    "mca.plot_flow_on_edge(3, x, ax=ax, color=\"black\", linestyle=\"dashed\")\n",
    "mca.plot_flow_on_edge(4, x, ax=ax, color=\"black\")\n",
    "ax.set_xlabel(\"$\\lambda$\")\n",
    "ax.set_ylabel(\"edge flow\")"
   ]
  }
 ],
 "metadata": {
  "interpreter": {
   "hash": "219b3df7192d91ed2c6095be311216c9c65acbd817ae748f854d329ca7110587"
  },
  "kernelspec": {
   "display_name": "Python 3.8.8 64-bit ('flowing': conda)",
   "language": "python",
   "name": "python3"
  },
  "language_info": {
   "codemirror_mode": {
    "name": "ipython",
    "version": 3
   },
   "file_extension": ".py",
   "mimetype": "text/x-python",
   "name": "python",
   "nbconvert_exporter": "python",
   "pygments_lexer": "ipython3",
   "version": "3.8.8"
  },
  "orig_nbformat": 4
 },
 "nbformat": 4,
 "nbformat_minor": 2
}
