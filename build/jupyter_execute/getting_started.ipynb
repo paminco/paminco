{
 "cells": [
  {
   "cell_type": "code",
   "execution_count": 1,
   "metadata": {},
   "outputs": [],
   "source": [
    "import sys\n",
    "REL_DIR  = \"../../../\"\n",
    "sys.path.append(REL_DIR)"
   ]
  },
  {
   "cell_type": "markdown",
   "metadata": {},
   "source": [
    "# Getting Started"
   ]
  },
  {
   "cell_type": "markdown",
   "metadata": {},
   "source": [
    "## Installation"
   ]
  },
  {
   "cell_type": "markdown",
   "metadata": {},
   "source": [
    "The latest version of the paminco package and the necessary dependencies can be installed directly \n",
    "from GitHub using ``pip``:\n",
    "\n",
    "```bash\n",
    "pip install git+https://github.com/paminco/paminco.git@setup_tester\n",
    "```"
   ]
  },
  {
   "cell_type": "markdown",
   "metadata": {},
   "source": [
    "## Simple MCA example"
   ]
  },
  {
   "cell_type": "markdown",
   "metadata": {},
   "source": [
    "Consider the following graph where four vertices ($s, v_1, v_2, t$) are connected with five edges. \n",
    "<!-- ```{figure} img/graph.png\n",
    "---\n",
    "width: 300px\n",
    "name: example-graph\n",
    "---\n",
    "Example graph with cost functions.\n",
    "``` -->\n",
    "<center>\n",
    "<img src=\"graph.png\" width=300>\n",
    "</center>\n",
    "\n",
    "For each edge a cost function $F_e$ is specified, e.g. the cost on edge $e_1$ given an edge flow $x_1$ \n",
    "are $F_{e_1}(x_1) = x_1^2$.\n",
    "We can setup the above network by specifying edge, cost and demand data as follows:"
   ]
  },
  {
   "cell_type": "code",
   "execution_count": 2,
   "metadata": {},
   "outputs": [
    {
     "ename": "ImportError",
     "evalue": "cannot import name 'Network' from 'paminco' (unknown location)",
     "output_type": "error",
     "traceback": [
      "\u001b[1;31m---------------------------------------------------------------------------\u001b[0m",
      "\u001b[1;31mImportError\u001b[0m                               Traceback (most recent call last)",
      "\u001b[1;32m~\\AppData\\Local\\Temp/ipykernel_8420/3526317686.py\u001b[0m in \u001b[0;36m<module>\u001b[1;34m\u001b[0m\n\u001b[0;32m      1\u001b[0m \u001b[1;32mimport\u001b[0m \u001b[0mnumpy\u001b[0m \u001b[1;32mas\u001b[0m \u001b[0mnp\u001b[0m\u001b[1;33m\u001b[0m\u001b[1;33m\u001b[0m\u001b[0m\n\u001b[1;32m----> 2\u001b[1;33m \u001b[1;32mfrom\u001b[0m \u001b[0mpaminco\u001b[0m \u001b[1;32mimport\u001b[0m \u001b[0mNetwork\u001b[0m\u001b[1;33m,\u001b[0m \u001b[0mMCA\u001b[0m\u001b[1;33m\u001b[0m\u001b[1;33m\u001b[0m\u001b[0m\n\u001b[0m\u001b[0;32m      3\u001b[0m \u001b[1;33m\u001b[0m\u001b[0m\n\u001b[0;32m      4\u001b[0m edge_data = np.array([[ \"s\", \"v1\"],\n\u001b[0;32m      5\u001b[0m                       \u001b[1;33m[\u001b[0m \u001b[1;34m\"s\"\u001b[0m\u001b[1;33m,\u001b[0m \u001b[1;34m\"v2\"\u001b[0m\u001b[1;33m]\u001b[0m\u001b[1;33m,\u001b[0m\u001b[1;33m\u001b[0m\u001b[1;33m\u001b[0m\u001b[0m\n",
      "\u001b[1;31mImportError\u001b[0m: cannot import name 'Network' from 'paminco' (unknown location)"
     ]
    }
   ],
   "source": [
    "import numpy as np\n",
    "from paminco import Network, MCA\n",
    "\n",
    "edge_data = np.array([[ \"s\", \"v1\"],\n",
    "                      [ \"s\", \"v2\"],\n",
    "                      [\"v1\", \"v2\"],\n",
    "                      [\"v1\",  \"t\"],\n",
    "                      [\"v2\",  \"t\"]])\n",
    "poly_cost = np.array([[0, 0, 1],   # F_0(x) = 0 * x^0 + 0 * x^1 + 1 * x^2\n",
    "                      [0, 3, 0.5], # F_0(x) = 0 * x^0 + 3 * x^1 + 0.5 * x^2\n",
    "                      [0, 0, 0.5],\n",
    "                      [0, 3, 0.5],\n",
    "                      [0, 0, 1]])\n",
    "demand_data = ((\"s\", \"t\", 1))\n",
    "d = {\"s\": 0, \"v1\": 1, \"v2\": 2, \"t\": 3}  # determines how labels are mapped to indices\n",
    "net = Network(edge_data,\n",
    "              cost_data=poly_cost,\n",
    "              demand_data=demand_data,\n",
    "              kw_edge={\"map_labels_to_indices\": d})"
   ]
  },
  {
   "cell_type": "markdown",
   "metadata": {},
   "source": [
    "A parametric mincost flow can be found with the MCA algorithm:"
   ]
  },
  {
   "cell_type": "code",
   "execution_count": 10,
   "metadata": {},
   "outputs": [
    {
     "name": "stdout",
     "output_type": "stream",
     "text": [
      "Iteration    1 | λ ∈ [0.000, 1.000]   | ↑ e* = 3 ∈ E* = [1, 3]\n",
      "Iteration    2 | λ ∈ [1.000, 1.000]   | ↑ e* = 1\n",
      "Iteration    3 | λ ∈ [1.000, 6.000]   | ↓ e* = 2\n"
     ]
    }
   ],
   "source": [
    "mca = MCA(net, lambda_max=8)\n",
    "mca.run(print=True)"
   ]
  },
  {
   "cell_type": "markdown",
   "metadata": {},
   "source": [
    "This results in the following parametric edge flows, the mincost flow on an edge w.r.t. to the \n",
    "demand factor $\\lambda$."
   ]
  },
  {
   "cell_type": "code",
   "execution_count": 11,
   "metadata": {},
   "outputs": [
    {
     "data": {
      "image/png": "[encoded data removed]",
      "text/plain": [
       "<Figure size 720x360 with 1 Axes>"
      ]
     },
     "metadata": {
      "filenames": {
       "image/png": "C:\\Users\\PJ\\git\\paminco\\doc\\build\\jupyter_execute\\getting_started_10_0.png"
      },
      "needs_background": "light"
     },
     "output_type": "display_data"
    }
   ],
   "source": [
    "import matplotlib.pyplot as plt\n",
    "fig, ax = plt.subplots(figsize=(10, 5))\n",
    "x = np.linspace(0, 8, 9)\n",
    "mca.plot_flow_on_edge(0, x, ax=ax, color=\"black\")\n",
    "mca.plot_flow_on_edge(1, x, ax=ax, color=\"black\", linestyle=\"dashed\")\n",
    "mca.plot_flow_on_edge(2, x, ax=ax, color=\"black\", linestyle=\"dotted\")\n",
    "mca.plot_flow_on_edge(3, x, ax=ax, color=\"black\", linestyle=\"dashed\")\n",
    "mca.plot_flow_on_edge(4, x, ax=ax, color=\"black\")"
   ]
  }
 ],
 "metadata": {
  "interpreter": {
   "hash": "219b3df7192d91ed2c6095be311216c9c65acbd817ae748f854d329ca7110587"
  },
  "kernelspec": {
   "display_name": "Python 3.8.8 64-bit ('flowing': conda)",
   "language": "python",
   "name": "python3"
  },
  "language_info": {
   "codemirror_mode": {
    "name": "ipython",
    "version": 3
   },
   "file_extension": ".py",
   "mimetype": "text/x-python",
   "name": "python",
   "nbconvert_exporter": "python",
   "pygments_lexer": "ipython3",
   "version": "3.8.8"
  }
 },
 "nbformat": 4,
 "nbformat_minor": 2
}