{
 "cells": [
  {
   "cell_type": "code",
   "execution_count": 1,
   "metadata": {},
   "outputs": [],
   "source": [
    "import sys\n",
    "REL_DIR  = \"../../../../\"\n",
    "sys.path.append(REL_DIR)"
   ]
  },
  {
   "cell_type": "markdown",
   "metadata": {},
   "source": [
    "# SiouxFalls - (Parametric) Price of Anarchy"
   ]
  },
  {
   "cell_type": "markdown",
   "metadata": {},
   "source": [
    "## 1. Imports and data readin"
   ]
  },
  {
   "cell_type": "markdown",
   "metadata": {},
   "source": [
    "First we load the paminco package and read the SiouxFalls data. \n",
    "The data was taken from [here](https://github.com/bstabler/TransportationNetworks) and converted to our format of choice: ``XML``.\n",
    "The data for SiouxFalls comes with paminco and can be easily loaded: "
   ]
  },
  {
   "cell_type": "code",
   "execution_count": 2,
   "metadata": {},
   "outputs": [
    {
     "ename": "ModuleNotFoundError",
     "evalue": "No module named 'paminco'",
     "output_type": "error",
     "traceback": [
      "\u001b[1;31m---------------------------------------------------------------------------\u001b[0m",
      "\u001b[1;31mModuleNotFoundError\u001b[0m                       Traceback (most recent call last)",
      "\u001b[1;32m~\\AppData\\Local\\Temp/ipykernel_6212/3569338817.py\u001b[0m in \u001b[0;36m<module>\u001b[1;34m\u001b[0m\n\u001b[1;32m----> 1\u001b[1;33m \u001b[1;32mimport\u001b[0m \u001b[0mpaminco\u001b[0m\u001b[1;33m\u001b[0m\u001b[1;33m\u001b[0m\u001b[0m\n\u001b[0m\u001b[0;32m      2\u001b[0m \u001b[1;33m\u001b[0m\u001b[0m\n\u001b[0;32m      3\u001b[0m \u001b[0msioux\u001b[0m \u001b[1;33m=\u001b[0m \u001b[0mpaminco\u001b[0m\u001b[1;33m.\u001b[0m\u001b[0mload_sioux\u001b[0m\u001b[1;33m(\u001b[0m\u001b[1;33m)\u001b[0m\u001b[1;33m\u001b[0m\u001b[1;33m\u001b[0m\u001b[0m\n",
      "\u001b[1;31mModuleNotFoundError\u001b[0m: No module named 'paminco'"
     ]
    }
   ],
   "source": [
    "import paminco\n",
    "\n",
    "sioux = paminco.load_sioux()"
   ]
  },
  {
   "cell_type": "markdown",
   "metadata": {},
   "source": [
    "By default the edge cost equal the link travel time: $F_e = l_e$. \n",
    "The link travel time is defined as\n",
    "\\begin{equation*}\n",
    "l_e(x_e) = \\text{fft}_e \\cdot \\left( 1 + B_e \\cdot \\left(\\frac{x}{\\text{cap}_e}\\right) ^ {p_e} \\right)\n",
    "\\end{equation*}"
   ]
  },
  {
   "cell_type": "markdown",
   "metadata": {},
   "source": [
    "## 2. Fixed Price of Anarchy with Frank-Wolfe"
   ]
  },
  {
   "cell_type": "markdown",
   "metadata": {},
   "source": [
    "We find minimum cost flows that coincide with user equilibrium and system optimum if we transform the edge cost by:\n",
    "\\begin{align}\n",
    "\\text{User equilibrium:} \\quad F_e &= \\int_0^{x_e} l_e(s) ds \\\\ \n",
    "\\text{System optimum:} \\quad F_e &= x_e \\cdot l_e \\\\ \n",
    "\\end{align}"
   ]
  },
  {
   "cell_type": "code",
   "execution_count": 21,
   "metadata": {},
   "outputs": [],
   "source": [
    "import copy\n",
    "\n",
    "# Calculate user equilibrium -> F_e = integral_0^(x_e) l_e(s)ds\n",
    "sioux_ue = copy.deepcopy(sioux)\n",
    "sioux_ue.cost.integrate(inplace=True)\n",
    "fw_ue = paminco.NetworkFW(sioux_ue)\n",
    "fw_ue.run(max_iter=500)\n",
    "\n",
    "# Calculate system optimum -> F_e = x_e * l_e\n",
    "sioux_so = copy.deepcopy(sioux) \n",
    "sioux_so.cost.times_x(inplace=True)\n",
    "fw_so = paminco.NetworkFW(sioux_so)\n",
    "fw_so.run(max_iter=500)"
   ]
  },
  {
   "cell_type": "markdown",
   "metadata": {},
   "source": [
    "The [Price of Annarchy](https://en.wikipedia.org/wiki/Price_of_anarchy) (PoA) measures the inefficency of the network utilization due to selfish behaviour of the participants. \n",
    "It is calculated as the ratio of the total (or equivalently average) travel time for all particpants in the user equilbrium to that of the system optimum:\n",
    "\n",
    "\\begin{equation*}\n",
    "\\text{PoA} = \\frac{C(\\text{UE})}{C(\\text{SO})},\n",
    "\\end{equation*}\n",
    "\n",
    "where $C$ is the total system travel time (TSTT):\n",
    "\\begin{equation*}\n",
    "\\text{TTST}(\\mathbf{x}) = x_e \\cdot l_e,\n",
    "\\end{equation*}\n",
    "i.e., the objective function of the system optimal minimum cost flow."
   ]
  },
  {
   "cell_type": "code",
   "execution_count": 22,
   "metadata": {},
   "outputs": [],
   "source": [
    "def TTST(x):\n",
    "    return sioux_so.cost.F(x).sum()"
   ]
  },
  {
   "cell_type": "markdown",
   "metadata": {},
   "source": [
    "The Price of Anarchy for SiouxFalls is about ``3.8 percent``:"
   ]
  },
  {
   "cell_type": "code",
   "execution_count": 24,
   "metadata": {},
   "outputs": [
    {
     "data": {
      "text/plain": [
       "1.0388035864499006"
      ]
     },
     "execution_count": 24,
     "metadata": {},
     "output_type": "execute_result"
    }
   ],
   "source": [
    "poa = TTST(fw_ue.x) / TTST(fw_so.x)\n",
    "poa"
   ]
  },
  {
   "cell_type": "markdown",
   "metadata": {},
   "source": [
    "## 3. Paramtric Price of Anarchy with MCA"
   ]
  },
  {
   "cell_type": "markdown",
   "metadata": {},
   "source": [
    "The above example allowed to compute system inefficiency for a fixed demand $\\mathbf{B}$. \n",
    "\n",
    "However, it is of interest how the POA varies by the demand multiplier $\\lambda$.\n",
    "We can achieve this with the ``MCA`` algorithm by calculating parametric user equilibira flows and parametric system optima:"
   ]
  },
  {
   "cell_type": "code",
   "execution_count": 27,
   "metadata": {},
   "outputs": [],
   "source": [
    "sioux2 = copy.deepcopy(sioux)\n",
    "sioux2.set_demand((\"20\", \"3\", 100000))\n",
    "\n",
    "sioux_ue = copy.deepcopy(sioux2)\n",
    "sioux_ue.cost.integrate(inplace=True)\n",
    "mca_ue = paminco.MCA(sioux_ue)\n",
    "mca_ue.run()\n",
    "\n",
    "sioux_so = copy.deepcopy(sioux2) \n",
    "sioux_so.cost.times_x(inplace=True)\n",
    "mca_so = paminco.MCA(sioux_so)\n",
    "mca_so.run()"
   ]
  },
  {
   "cell_type": "markdown",
   "metadata": {},
   "source": [
    "For any demand multiplier in $\\lambda \\in [0, 1]$, we can now compute a price of anarchy:"
   ]
  },
  {
   "cell_type": "code",
   "execution_count": 54,
   "metadata": {},
   "outputs": [],
   "source": [
    "import numpy as np\n",
    "\n",
    "lambdas = np.linspace(1e-5, 1, 100)\n",
    "\n",
    "cost_user_equilibira = np.array([TTST(mca_ue.flow_at(l)) for l in lambdas])\n",
    "cost_system_optima = np.array([TTST(mca_so.flow_at(l)) for l in lambdas])\n",
    "paramtric_poa = cost_user_equilibira / cost_system_optima"
   ]
  },
  {
   "cell_type": "code",
   "execution_count": 55,
   "metadata": {},
   "outputs": [
    {
     "data": {
      "text/plain": [
       "Text(0.5, 1.0, 'Parametric Price of Anarchy')"
      ]
     },
     "execution_count": 55,
     "metadata": {},
     "output_type": "execute_result"
    },
    {
     "data": {
      "image/png": "[encoded data removed]",
      "text/plain": [
       "<Figure size 720x432 with 1 Axes>"
      ]
     },
     "metadata": {
      "filenames": {
       "image/png": "C:\\Users\\PJ\\git\\paminco\\doc\\build\\jupyter_execute\\user_guide\\applications\\traffic\\sioux_par_poa_18_1.png"
      },
      "needs_background": "light"
     },
     "output_type": "display_data"
    }
   ],
   "source": [
    "import matplotlib.pyplot as plt\n",
    "\n",
    "fig, ax = plt.subplots(figsize=(10, 6))\n",
    "ax.plot(lambdas, paramtric_poa, color=\"black\")\n",
    "ax.set_xlabel(\"$\\lambda$\", fontsize=16)\n",
    "ax.set_ylabel(\"PoA\", fontsize=16)\n",
    "ax.set_title(\"Parametric Price of Anarchy\", fontsize=16)"
   ]
  }
 ],
 "metadata": {
  "interpreter": {
   "hash": "219b3df7192d91ed2c6095be311216c9c65acbd817ae748f854d329ca7110587"
  },
  "kernelspec": {
   "display_name": "Python 3.8.8 64-bit ('flowing': conda)",
   "name": "python3"
  },
  "language_info": {
   "codemirror_mode": {
    "name": "ipython",
    "version": 3
   },
   "file_extension": ".py",
   "mimetype": "text/x-python",
   "name": "python",
   "nbconvert_exporter": "python",
   "pygments_lexer": "ipython3",
   "version": "3.8.8"
  }
 },
 "nbformat": 4,
 "nbformat_minor": 2
}