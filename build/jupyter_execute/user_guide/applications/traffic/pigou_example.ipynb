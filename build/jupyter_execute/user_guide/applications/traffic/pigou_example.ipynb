{
 "cells": [
  {
   "cell_type": "markdown",
   "metadata": {},
   "source": [
    "# Pigou's Example"
   ]
  },
  {
   "cell_type": "markdown",
   "metadata": {},
   "source": [
    "Consider the following network, also called [Pigou's example](https://www.networkpages.nl/equilibrium-congestion-models-pigous-example/#:~:text=That%20is%2C%20when%20we%20have,100th%20of%20the%20traffic.), where the two vertices ``s`` and ``t`` are connected with two parallel edges.\n",
    "\n",
    "```{figure} ./img/pigou.png\n",
    "  :name: pigou\n",
    "  :width: 70%\n",
    "\n",
    "  Pigou's example.\n",
    "```\n",
    "\n",
    "The upper edge has a constant link travel time $l_1(x_1) = 1$ invariant of the upper link flow $x_1$, whereas the travel time on the lower edge varies by edge flow: $l_2(x_2) = x_2$.\n",
    "In total, we send 1 unit from s to t, i.e., $x_1$ is the fraction of driver that use the upper edge and $x_2$ that use the lower edge, and $x_1 + x_2 = 1$."
   ]
  },
  {
   "cell_type": "markdown",
   "metadata": {},
   "source": [
    "## 1. System optimum, user equilibrium and price of anarchy"
   ]
  },
  {
   "cell_type": "markdown",
   "metadata": {},
   "source": [
    "### 1.1 System optimum (SO)"
   ]
  },
  {
   "cell_type": "markdown",
   "metadata": {},
   "source": [
    "A centralized planner -- e.g., the government -- may strive to minimize the average travel time for all participants: $\\underset{\\mathbf{x}}{\\mathrm{argmin} \\text{ }} \\sum_{e \\in E} x_{e} \\cdot l_{e}(x_e)$.\n",
    "\n",
    "The so called system optimum (SO) is easily computed by:\n",
    "\n",
    "$$\n",
    "    \\begin{equation*}\n",
    "        \\underset{x_1, x_2}{\\mathrm{argmin} \\text{ }} x_1 \\cdot l_1(x_1) + x_2 \\cdot l_2(x_2).\n",
    "    \\end{equation*}\n",
    "$$\n",
    "By substituting $x_2 = 1 - x_1$ this equals:\n",
    "\n",
    "$$\n",
    "    \\begin{equation*}\n",
    "        \\underset{x_1}{\\mathrm{argmin \\text{ }}} x_1 \\cdot 1 + (1-x_1) \\cdot (1-x_1) = \\\\\n",
    "        \\underset{x_1}{\\mathrm{argmin \\text{ }}} x_1 + (1-x_1)^2,\n",
    "    \\end{equation*}\n",
    "$$\n",
    "where the system optimal flow is: $x_1 = x_2 = 1/2$. The total travel time in the system optimum is thus $C_\\text{SO} = 1/2 \\cdot 1 + 1/2 \\cdot 1/2 = 1/2 + 1/4 = 3/4$."
   ]
  },
  {
   "cell_type": "markdown",
   "metadata": {},
   "source": [
    "### 1.2 User equilibrium (UE)"
   ]
  },
  {
   "cell_type": "markdown",
   "metadata": {},
   "source": [
    "In the user equilibrium -- with the assumption that all participants have perfect information -- all routes from s to t will take the same amount of time, i.e.,:\n",
    "\n",
    "$$\n",
    "    \\begin{equation}\n",
    "        l_1(x_1) = l_2(x_2) \\Leftrightarrow 1 = x_2.\n",
    "    \\end{equation}\n",
    "$$\n",
    "\n",
    "All users are using the lower arc to go from $s$ to $t$: $x_1=0, x_2=1$. This leads to a total system travel time of $C_\\text{UE} = 0 \\cdot 1 + 1 \\cdot 1 = 0 + 1 = 1$."
   ]
  },
  {
   "cell_type": "markdown",
   "metadata": {},
   "source": [
    "### 1.3 Price of Anarchy (PoA)"
   ]
  },
  {
   "cell_type": "markdown",
   "metadata": {},
   "source": [
    "The [Price of Annarchy](https://en.wikipedia.org/wiki/Price_of_anarchy) (PoA) measures the inefficency of the network utilization due to selfish behaviour of the participants. \n",
    "It is calculated as the ratio of the total (or equivalently average) travel time for all particpants in the user equilbrium to that of the system optimum:\n",
    "\n",
    "$$\n",
    "    \\begin{equation*}\n",
    "        \\text{PoA} = \\frac{C(\\text{UE})}{C(\\text{SO})} = \\frac{1}{3/4} = 4/3.\n",
    "    \\end{equation*}\n",
    "$$"
   ]
  },
  {
   "cell_type": "markdown",
   "metadata": {},
   "source": [
    "## 2. Calculate UE and SO with paminco"
   ]
  },
  {
   "cell_type": "markdown",
   "metadata": {},
   "source": [
    "Our implementation cannot deal with parallel edges and we thus have to transform the network slightly:\n",
    "\n",
    "```{figure} ./img/pigou_artificial_vert.png\n",
    "  :name: pigou_artificial_vert\n",
    "  :width: 90%\n",
    "\n",
    "  Adding artificial vertices $V_1$ and $V_2$ to bypass parallel edges.\n",
    "```\n",
    "\n",
    "As the network has polynomial edge costs, we can simply pass in the polynomial coefficients to the network constructor:"
   ]
  },
  {
   "cell_type": "code",
   "execution_count": 1,
   "metadata": {},
   "outputs": [],
   "source": [
    "import sys\n",
    "REL_DIR  = \"../../../../..\"\n",
    "sys.path.append(REL_DIR)\n",
    "\n",
    "import paminco"
   ]
  },
  {
   "cell_type": "code",
   "execution_count": 2,
   "metadata": {},
   "outputs": [],
   "source": [
    "import paminco\n",
    "import numpy as np\n",
    "\n",
    "# We add artifical vertices v and w to bypass parallel edges problem\n",
    "edge_data = np.array([[\"s\", \"v\"],\n",
    "                      [\"v\", \"t\"],\n",
    "                      [\"s\", \"w\"],\n",
    "                      [\"w\", \"t\"],\n",
    "                      ])\n",
    "# l_e = 1 = 1 + 0*x -> coeff = (1, 0)\n",
    "# l_e = x = 0 + 1*x -> coeff = (0, 1)\n",
    "cost = np.array([[1, 0], \n",
    "                 [1, 0],\n",
    "                 [0, 1],\n",
    "                 [0, 1],\n",
    "                 ])\n",
    "demand_data = (\"s\", \"t\", 1)\n",
    "lbl2id = {\"s\": 0, \"v\": 1, \"w\": 2, \"t\": 3}\n",
    "pigou = paminco.Network(edge_data=edge_data, \n",
    "                       cost_data=cost, \n",
    "                       demand_data=demand_data,\n",
    "                       kw_edge={\"map_labels_to_indices\": lbl2id}\n",
    "                       )"
   ]
  },
  {
   "cell_type": "markdown",
   "metadata": {},
   "source": [
    "We find minimum cost flows that coincide with user equilibrium and system optimum if we transform the edge cost by\n",
    "\n",
    "$$\n",
    "    \\begin{align}\n",
    "        \\text{User equilibrium:} \\quad F_e &= \\int_0^{x_e} l_e(s) ds \\\\ \n",
    "        \\text{System optimum:} \\quad F_e &= x_e \\cdot l_e.\n",
    "    \\end{align}\n",
    "$$"
   ]
  },
  {
   "cell_type": "code",
   "execution_count": 3,
   "metadata": {},
   "outputs": [],
   "source": [
    "import copy\n",
    "\n",
    "# Calculate user equilibrium -> F_e = integral_0^(x_e) l_e(s)ds\n",
    "pigou_ue = copy.deepcopy(pigou)\n",
    "pigou_ue.cost.integrate(inplace=True)\n",
    "fw_ue = paminco.NetworkFW(pigou_ue)\n",
    "fw_ue.run()\n",
    "\n",
    "# Calculate system optimum -> F_e = x_e * l_e\n",
    "pigou_so = copy.deepcopy(pigou) \n",
    "pigou_so.cost.times_x(inplace=True)\n",
    "fw_so = paminco.NetworkFW(pigou_so)\n",
    "fw_so.run()"
   ]
  },
  {
   "cell_type": "markdown",
   "metadata": {},
   "source": [
    "### 2.1 Equilibrium flows"
   ]
  },
  {
   "cell_type": "markdown",
   "metadata": {},
   "source": [
    "We find flows on the (artificial) edges as:"
   ]
  },
  {
   "cell_type": "code",
   "execution_count": 4,
   "metadata": {},
   "outputs": [
    {
     "name": "stdout",
     "output_type": "stream",
     "text": [
      "  from to  flow user eq  flow sys opt\n",
      "0    s  v           0.0           0.5\n",
      "1    v  t           0.0           0.5\n",
      "2    s  w           1.0           0.5\n",
      "3    w  t           1.0           0.5\n"
     ]
    }
   ],
   "source": [
    "import pandas as pd\n",
    "\n",
    "flows_ue = fw_ue.flows[[\"s\", \"t\", \"x\"]]\n",
    "flows_so = fw_so.flows[[\"s\", \"t\", \"x\"]]\n",
    "flows = pd.merge(flows_ue, flows_so, on=[\"s\", \"t\"])\n",
    "flows[[\"s\", \"t\"]] = pigou.shared.get_node_label(flows[[\"s\", \"t\"]].values)\n",
    "flows.columns = [\"from\", \"to\", \"flow user eq\", \"flow sys opt\"]\n",
    "print(flows)"
   ]
  },
  {
   "cell_type": "markdown",
   "metadata": {},
   "source": [
    "```{figure} ./img/pigou_equilibria.png\n",
    "  :name: pigou_equilibria\n",
    "  :width: 90%\n",
    "\n",
    "  Flow in user equilibrium (left) and system optimum (right).\n",
    "```"
   ]
  },
  {
   "cell_type": "markdown",
   "metadata": {},
   "source": [
    "### 2.2 The Price of Anarchy"
   ]
  },
  {
   "cell_type": "markdown",
   "metadata": {},
   "source": [
    "The objective function to calculate the system optimum is the total system travel time (TSTT):\n",
    "\n",
    "$$\n",
    "    \\begin{equation*}\n",
    "        \\text{TSTT}(\\mathbf{x}) = \\sum_{e \\in E} x_{e} \\cdot l_{e}(x_e)\n",
    "    \\end{equation*}\n",
    "$$"
   ]
  },
  {
   "cell_type": "code",
   "execution_count": 5,
   "metadata": {},
   "outputs": [],
   "source": [
    "def TTST(x):\n",
    "    return pigou_so.cost.F(x).sum()"
   ]
  },
  {
   "cell_type": "markdown",
   "metadata": {},
   "source": [
    "We find that the total system travel time for Barcelona is increased ``33.33`` percent if users behave selfishly. Note that we have to scale the cost by 1/2 due to the artificial edges:"
   ]
  },
  {
   "cell_type": "code",
   "execution_count": 6,
   "metadata": {},
   "outputs": [
    {
     "name": "stdout",
     "output_type": "stream",
     "text": [
      "Cost user eqiulibrium:  1.0\n",
      "Cost system optimum:    0.75\n",
      "Price of anarchy:       1.33\n"
     ]
    }
   ],
   "source": [
    "cost_ue = TTST(fw_ue.flow) / 2\n",
    "cost_so = TTST(fw_so.flow) / 2\n",
    "poa = cost_ue / cost_so\n",
    "print(\"Cost user eqiulibrium: \", cost_ue)\n",
    "print(\"Cost system optimum:   \", cost_so)\n",
    "print(\"Price of anarchy:      \", poa.round(2))"
   ]
  }
 ],
 "metadata": {
  "interpreter": {
   "hash": "86685080231f9b02213e3a45f235f7a553419c42ebb04b873282518ce43d9a76"
  },
  "kernelspec": {
   "display_name": "Python 3.9.7 64-bit (conda)",
   "name": "python3"
  },
  "language_info": {
   "codemirror_mode": {
    "name": "ipython",
    "version": 3
   },
   "file_extension": ".py",
   "mimetype": "text/x-python",
   "name": "python",
   "nbconvert_exporter": "python",
   "pygments_lexer": "ipython3",
   "version": "3.8.8"
  }
 },
 "nbformat": 4,
 "nbformat_minor": 2
}