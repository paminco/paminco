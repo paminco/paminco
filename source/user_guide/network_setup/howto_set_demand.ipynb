{
 "cells": [
  {
   "cell_type": "code",
   "execution_count": 1,
   "metadata": {},
   "outputs": [],
   "source": [
    "import sys\n",
    "REL_DIR  = \"../../../..\"\n",
    "sys.path.append(REL_DIR)\n"
   ]
  },
  {
   "cell_type": "markdown",
   "metadata": {},
   "source": [
    "# Setting up a Demand Function"
   ]
  },
  {
   "cell_type": "markdown",
   "metadata": {},
   "source": [
    "## 1. Why do we need it?"
   ]
  },
  {
   "cell_type": "markdown",
   "metadata": {},
   "source": [
    "paminco allows to compute parametric minimum cost flows (MCF) w.r.t. to demand multiplier $\\lambda$. I.e., the goal is to find a MCF for all values of $\\lambda$ in the interval $\\left[0, \\lambda^{\\max }\\right]$:\n",
    "\n",
    "\\begin{align*}\n",
    "\\min \\text { } & C(\\mathbf{x}) \\\\\n",
    "\\text {s.t.} \\quad \\mathbf{\\Gamma} \\mathbf{x} &= \\mathbf{h}(\\lambda), \\\\\n",
    "\\mathbf{x} &\\geq \\mathbf{0},\n",
    "\\end{align*}\n",
    "\n",
    "where $\\mathbf{h}(\\lambda)$ is a ``demand function`` that maps $\\lambda$ to a ``demand vector`` $\\mathbf{b}$."
   ]
  },
  {
   "cell_type": "markdown",
   "metadata": {},
   "source": [
    "## 2. Demand vectors and matrices "
   ]
  },
  {
   "cell_type": "markdown",
   "metadata": {},
   "source": [
    "### 2.1. Demand vector"
   ]
  },
  {
   "cell_type": "markdown",
   "metadata": {},
   "source": [
    "For single commodity problems a demand vector is a (n, ) array that encodes the inflow and outflow rate per node, negative values indicating *sources* and positive values *sinks*.\n",
    "\n",
    "Consider the following example. \n",
    "The network consists of four vertices and five edges. \n",
    "We want to send 10 units from vertex $A$ to vertex $D$, indicated by the wiggly green arrow\n",
    "<center> \n",
    "<img src=\"img/graph_demand.jpg\" width=\"400\">\n",
    "</center>"
   ]
  },
  {
   "cell_type": "markdown",
   "metadata": {},
   "source": [
    "#### Network setup"
   ]
  },
  {
   "cell_type": "markdown",
   "metadata": {},
   "source": [
    "We setup this network (without demand) as follows:"
   ]
  },
  {
   "cell_type": "code",
   "execution_count": 2,
   "metadata": {},
   "outputs": [
    {
     "data": {
      "text/plain": [
       "{'A': 0, 'B': 1, 'C': 2, 'D': 3}"
      ]
     },
     "execution_count": 2,
     "metadata": {},
     "output_type": "execute_result"
    }
   ],
   "source": [
    "import paminco\n",
    "import numpy as np\n",
    "\n",
    "edge_data = np.array([\n",
    "    [\"A\", \"B\"],\n",
    "    [\"A\", \"C\"],\n",
    "    [\"B\", \"C\"],\n",
    "    [\"B\", \"D\"],\n",
    "    [\"C\", \"D\"],\n",
    "])\n",
    "graph = paminco.Network(edge_data)\n",
    "graph.nodes.lbl2id"
   ]
  },
  {
   "cell_type": "markdown",
   "metadata": {},
   "source": [
    "#### Building demand vector"
   ]
  },
  {
   "cell_type": "markdown",
   "metadata": {},
   "source": [
    "We now build a demand vector:"
   ]
  },
  {
   "cell_type": "code",
   "execution_count": 21,
   "metadata": {},
   "outputs": [],
   "source": [
    "demand_vector = paminco.net.demand.demand_vector(\n",
    "    graph.shared,  # each network element must know about shared data ...\n",
    "    (\"A\", \"D\", 10)  # send 10 units from A to D\n",
    ")\n",
    "demand_vector.map_node_label_to_id()"
   ]
  },
  {
   "cell_type": "markdown",
   "metadata": {},
   "source": [
    "#### Retrieving sparse representation"
   ]
  },
  {
   "cell_type": "markdown",
   "metadata": {},
   "source": [
    "This demand vector consists of one CommoditySingleSourceSink:"
   ]
  },
  {
   "cell_type": "code",
   "execution_count": 4,
   "metadata": {},
   "outputs": [
    {
     "data": {
      "text/plain": [
       "[CommoditySingleSourceSink 'A' (0) → 'D' (3) | 10 @ 0x20c926791c0]"
      ]
     },
     "execution_count": 4,
     "metadata": {},
     "output_type": "execute_result"
    }
   ],
   "source": [
    "demand_vector.commodities"
   ]
  },
  {
   "cell_type": "markdown",
   "metadata": {},
   "source": [
    "Algorithms in paminco expect the demand vector to be sparse matrix, which can be accessed by:"
   ]
  },
  {
   "cell_type": "code",
   "execution_count": 5,
   "metadata": {},
   "outputs": [
    {
     "data": {
      "text/plain": [
       "<4x1 sparse matrix of type '<class 'numpy.float64'>'\n",
       "\twith 2 stored elements in Compressed Sparse Column format>"
      ]
     },
     "execution_count": 5,
     "metadata": {},
     "output_type": "execute_result"
    }
   ],
   "source": [
    "demand_vector()"
   ]
  },
  {
   "cell_type": "code",
   "execution_count": 6,
   "metadata": {},
   "outputs": [
    {
     "data": {
      "text/plain": [
       "array([[-10.],\n",
       "       [  0.],\n",
       "       [  0.],\n",
       "       [ 10.]])"
      ]
     },
     "execution_count": 6,
     "metadata": {},
     "output_type": "execute_result"
    }
   ],
   "source": [
    "demand_vector().toarray()"
   ]
  },
  {
   "cell_type": "markdown",
   "metadata": {},
   "source": [
    "#### Setting demand function"
   ]
  },
  {
   "cell_type": "markdown",
   "metadata": {},
   "source": [
    "We equip the network with a linear demand function that scales this demand vector by the demand multiplier $\\lambda$:"
   ]
  },
  {
   "cell_type": "code",
   "execution_count": 23,
   "metadata": {},
   "outputs": [
    {
     "data": {
      "text/plain": [
       "<paminco.net.demand.LinearDemandFunction at 0x20c95fe1b20>"
      ]
     },
     "execution_count": 23,
     "metadata": {},
     "output_type": "execute_result"
    }
   ],
   "source": [
    "graph.set_demand(demand_vector)\n",
    "graph.demand"
   ]
  },
  {
   "cell_type": "markdown",
   "metadata": {},
   "source": [
    "For a linear demand function with $\\lambda = 1$ (no scaling), we expect to retrieve the specified demand vector:"
   ]
  },
  {
   "cell_type": "code",
   "execution_count": 24,
   "metadata": {},
   "outputs": [
    {
     "data": {
      "text/plain": [
       "array([[-10.],\n",
       "       [  0.],\n",
       "       [  0.],\n",
       "       [ 10.]])"
      ]
     },
     "execution_count": 24,
     "metadata": {},
     "output_type": "execute_result"
    }
   ],
   "source": [
    "graph.demand(1).toarray()"
   ]
  },
  {
   "cell_type": "markdown",
   "metadata": {},
   "source": [
    "For other values of $\\lambda$, the input demand vector is scaled:"
   ]
  },
  {
   "cell_type": "code",
   "execution_count": 25,
   "metadata": {},
   "outputs": [
    {
     "data": {
      "text/plain": [
       "array([[-3.2],\n",
       "       [ 0. ],\n",
       "       [ 0. ],\n",
       "       [ 3.2]])"
      ]
     },
     "execution_count": 25,
     "metadata": {},
     "output_type": "execute_result"
    }
   ],
   "source": [
    "graph.demand(0.32).toarray()"
   ]
  },
  {
   "cell_type": "code",
   "execution_count": 10,
   "metadata": {},
   "outputs": [
    {
     "data": {
      "text/plain": [
       "array([[-16.3],\n",
       "       [  0. ],\n",
       "       [  0. ],\n",
       "       [ 16.3]])"
      ]
     },
     "execution_count": 10,
     "metadata": {},
     "output_type": "execute_result"
    }
   ],
   "source": [
    "graph.demand(1.63).toarray()"
   ]
  },
  {
   "cell_type": "markdown",
   "metadata": {},
   "source": [
    "#### All in one go"
   ]
  },
  {
   "cell_type": "markdown",
   "metadata": {},
   "source": [
    "By default, the network constructor builds a linear demand function from the ``demand_data``: "
   ]
  },
  {
   "cell_type": "code",
   "execution_count": 11,
   "metadata": {},
   "outputs": [
    {
     "data": {
      "text/plain": [
       "array([[-16.3],\n",
       "       [  0. ],\n",
       "       [  0. ],\n",
       "       [ 16.3]])"
      ]
     },
     "execution_count": 11,
     "metadata": {},
     "output_type": "execute_result"
    }
   ],
   "source": [
    "graph.set_demand((\"A\", \"D\", 10))\n",
    "graph.demand(1.63).toarray()"
   ]
  },
  {
   "cell_type": "markdown",
   "metadata": {},
   "source": [
    "### 2.2. Demand matrix"
   ]
  },
  {
   "cell_type": "markdown",
   "metadata": {},
   "source": [
    "For certain problems, the demand may consist of multiple commodities. \n",
    "E.g., in a traffic network some drivers want to go from one location to another, and others vice versa.\n",
    "Consider an adaption of the graph above:\n",
    "<center> \n",
    "<img src=\"img/graph_demand_multi.jpg\" width=\"400\">\n",
    "</center>\n",
    "\n",
    "Here, we set five commodities\n",
    "\\begin{align*}\n",
    "A & \\overset{2}{\\rightarrow} B \\quad (\\text{blue}), \\\\\n",
    "A & \\overset{5}{\\rightarrow} D \\quad (\\text{orange}), \\\\\n",
    "B & \\overset{7}{\\rightarrow} A \\quad (\\text{light green}), \\\\\n",
    "C & \\overset{5}{\\rightarrow} B \\quad (\\text{dark green}), \\\\\n",
    "D & \\overset{5}{\\rightarrow} C \\quad (\\text{red}).\n",
    "\\end{align*}\n",
    "\n",
    "<!-- A \\rightarrow B $ (blue), $A \\rightarrow D $ (orange), $B \\rightarrow A $ (light green), $C \\rightarrow B $ (dark green), $D \\rightarrow C $ (red). -->\n",
    "<!-- $A \\overset{2}{\\rightarrow} B $ (blue),\n",
    "$A \\overset{5}{\\rightarrow} D $ (orange),\n",
    "$B \\overset{7}{\\rightarrow} A $ (light green),\n",
    "$C \\overset{5}{\\rightarrow} B $ (dark green),\n",
    "$D \\overset{5}{\\rightarrow} C $ (red). -->"
   ]
  },
  {
   "cell_type": "code",
   "execution_count": 12,
   "metadata": {},
   "outputs": [],
   "source": [
    "commodities = [\n",
    "    (\"A\", \"B\", 2),\n",
    "    (\"A\", \"D\", 5),\n",
    "    (\"B\", \"A\", 7),\n",
    "    (\"C\", \"B\", 5),\n",
    "    (\"D\", \"C\", 5),\n",
    "]\n",
    "demand_matrix = paminco.net.demand_vector(graph.shared, commodities)\n",
    "demand_matrix.map_node_label_to_id()"
   ]
  },
  {
   "cell_type": "markdown",
   "metadata": {},
   "source": [
    "We encoded the commodites in a demand matrix, where each column is a demand vector:"
   ]
  },
  {
   "cell_type": "code",
   "execution_count": 13,
   "metadata": {},
   "outputs": [
    {
     "data": {
      "text/html": [
       "<div>\n",
       "<style scoped>\n",
       "    .dataframe tbody tr th:only-of-type {\n",
       "        vertical-align: middle;\n",
       "    }\n",
       "\n",
       "    .dataframe tbody tr th {\n",
       "        vertical-align: top;\n",
       "    }\n",
       "\n",
       "    .dataframe thead th {\n",
       "        text-align: right;\n",
       "    }\n",
       "</style>\n",
       "<table border=\"1\" class=\"dataframe\">\n",
       "  <thead>\n",
       "    <tr style=\"text-align: right;\">\n",
       "      <th></th>\n",
       "      <th>0</th>\n",
       "      <th>1</th>\n",
       "      <th>2</th>\n",
       "      <th>3</th>\n",
       "      <th>4</th>\n",
       "    </tr>\n",
       "  </thead>\n",
       "  <tbody>\n",
       "    <tr>\n",
       "      <th>A</th>\n",
       "      <td>-2.0</td>\n",
       "      <td>-5.0</td>\n",
       "      <td>7.0</td>\n",
       "      <td>0.0</td>\n",
       "      <td>0.0</td>\n",
       "    </tr>\n",
       "    <tr>\n",
       "      <th>B</th>\n",
       "      <td>2.0</td>\n",
       "      <td>0.0</td>\n",
       "      <td>-7.0</td>\n",
       "      <td>5.0</td>\n",
       "      <td>0.0</td>\n",
       "    </tr>\n",
       "    <tr>\n",
       "      <th>C</th>\n",
       "      <td>0.0</td>\n",
       "      <td>0.0</td>\n",
       "      <td>0.0</td>\n",
       "      <td>-5.0</td>\n",
       "      <td>5.0</td>\n",
       "    </tr>\n",
       "    <tr>\n",
       "      <th>D</th>\n",
       "      <td>0.0</td>\n",
       "      <td>5.0</td>\n",
       "      <td>0.0</td>\n",
       "      <td>0.0</td>\n",
       "      <td>-5.0</td>\n",
       "    </tr>\n",
       "  </tbody>\n",
       "</table>\n",
       "</div>"
      ],
      "text/plain": [
       "     0    1    2    3    4\n",
       "A -2.0 -5.0  7.0  0.0  0.0\n",
       "B  2.0  0.0 -7.0  5.0  0.0\n",
       "C  0.0  0.0  0.0 -5.0  5.0\n",
       "D  0.0  5.0  0.0  0.0 -5.0"
      ]
     },
     "execution_count": 13,
     "metadata": {},
     "output_type": "execute_result"
    }
   ],
   "source": [
    "import pandas as pd\n",
    "d = pd.DataFrame(demand_matrix().toarray())\n",
    "d.set_index(graph.nodes.labels)"
   ]
  },
  {
   "cell_type": "markdown",
   "metadata": {},
   "source": [
    "### 2.3. Commodity with multiple sinks and sources"
   ]
  },
  {
   "cell_type": "markdown",
   "metadata": {},
   "source": [
    "So far, we considered only commodities that have a single source and single sink. \n",
    "However, for certain applications -- such as a gas network -- a commodity may consits of ``multiple sources and/or multiple sinks``.\n",
    "This CommodityMultiSourceSink is encoded as a vector or dictionary that specfiies in and outflow rate of each node:"
   ]
  },
  {
   "cell_type": "code",
   "execution_count": 14,
   "metadata": {},
   "outputs": [
    {
     "data": {
      "text/plain": [
       "[CommodityMultiSourceSink @ 0x20c95fe1ac0\n",
       " 'A' : -5.0\n",
       " 'B' : -2.0\n",
       " 'C' : 1.0\n",
       " 'D' : 6.0]"
      ]
     },
     "execution_count": 14,
     "metadata": {},
     "output_type": "execute_result"
    }
   ],
   "source": [
    "com = {\"A\": -5, \"B\": -2, \"C\": 1, \"D\": 6}\n",
    "demand_vector = paminco.net.demand_vector(graph.shared, com)\n",
    "demand_vector.commodities"
   ]
  },
  {
   "cell_type": "markdown",
   "metadata": {},
   "source": [
    "In a sense, hhis commodity specifies that we input 5 units at $A$ and 2 at $B$, which are consumed by $D (6)$ and $C (1)$, i.e., $(A, B) \\overset{7}{\\rightarrow} (C, D)$.'"
   ]
  },
  {
   "cell_type": "markdown",
   "metadata": {},
   "source": [
    "## 3. Function types"
   ]
  },
  {
   "cell_type": "markdown",
   "metadata": {},
   "source": [
    "paminco has allows for two demand function types (other can be implemented by inheritance of paminco.demand.DemandFunction): linear demand functions and affine demand functions. \n",
    "For notational simplicity, we only consider demands that consists of a single commodity for the rest of this section."
   ]
  },
  {
   "cell_type": "markdown",
   "metadata": {},
   "source": [
    "### 3.1. Linear demand function"
   ]
  },
  {
   "cell_type": "markdown",
   "metadata": {},
   "source": [
    "A linear demand function is of the form:\n",
    "\\begin{equation}\n",
    "\\mathbf{h}_{\\text{lin}}(\\lambda) = \\lambda \\mathbf{b}, \n",
    "\\end{equation}\n",
    "\n",
    "where $\\mathbf{b}$ is a demand vector (see 1.1). In a sense, the demand is simply scaled by the parameter $\\lambda$.\n",
    "\n"
   ]
  },
  {
   "cell_type": "code",
   "execution_count": 15,
   "metadata": {},
   "outputs": [],
   "source": [
    "import paminco\n",
    "import numpy as np\n",
    "\n",
    "edge_data = np.array([\n",
    "    [\"A\", \"B\"],\n",
    "    [\"A\", \"C\"],\n",
    "    [\"B\", \"C\"],\n",
    "    [\"B\", \"D\"],\n",
    "    [\"C\", \"D\"],\n",
    "])\n",
    "demand_data = (\"A\", \"D\", 1)\n",
    "\n",
    "graph = paminco.Network(edge_data, demand_data=demand_data)"
   ]
  },
  {
   "cell_type": "markdown",
   "metadata": {},
   "source": [
    "The demand function of the network for $\\lambda = 2.5$ -- i.e., sending 2.5 times the original demand (1) from $A$ to $D$ -- is called by:"
   ]
  },
  {
   "cell_type": "code",
   "execution_count": 16,
   "metadata": {},
   "outputs": [
    {
     "data": {
      "text/plain": [
       "<4x1 sparse matrix of type '<class 'numpy.float64'>'\n",
       "\twith 2 stored elements in Compressed Sparse Column format>"
      ]
     },
     "execution_count": 16,
     "metadata": {},
     "output_type": "execute_result"
    }
   ],
   "source": [
    "graph.h(2.5)"
   ]
  },
  {
   "cell_type": "markdown",
   "metadata": {},
   "source": [
    "which is a $n \\times k$ sparse matrix. This matrix encodes the in and outflow rates for all nodes (row) for all commodities (column). It is easily converted to a numpy.ndarray:"
   ]
  },
  {
   "cell_type": "code",
   "execution_count": 17,
   "metadata": {},
   "outputs": [
    {
     "data": {
      "text/plain": [
       "array([[-2.5],\n",
       "       [ 0. ],\n",
       "       [ 0. ],\n",
       "       [ 2.5]])"
      ]
     },
     "execution_count": 17,
     "metadata": {},
     "output_type": "execute_result"
    }
   ],
   "source": [
    "graph.h(2.5).toarray()"
   ]
  },
  {
   "cell_type": "markdown",
   "metadata": {},
   "source": [
    "For example, the -2.5 indicates that the node at index 0 (node $A$) has a total inflow of -2.5 units, negative rates thus marking *source*. All the inflow in node $A$ is then \"consumed\" by the node at index 3 (node $D$, a *sink*)."
   ]
  },
  {
   "cell_type": "markdown",
   "metadata": {},
   "source": [
    "### 3.2. Affine demand function"
   ]
  },
  {
   "cell_type": "markdown",
   "metadata": {},
   "source": [
    "In contrast, an *affine demand function* consists of two parts: a base demand $\\mathbf{b}_0$ that is invariant of $\\lambda$ and a part that scales linearly with the demand multiplier:\n",
    "\\begin{equation}\n",
    "\\mathbf{h}_{\\text{affine}}(\\lambda) = \\mathbf{b}_0 + \\lambda \\mathbf{b}.\n",
    "\\end{equation}\n",
    "\n",
    "This is of interest for problems where there exsists a trivial solution to problems with linearly scaled demands.\n",
    "Using the data from the above example, we can setup an affine demand function as follows:"
   ]
  },
  {
   "cell_type": "markdown",
   "metadata": {},
   "source": []
  },
  {
   "cell_type": "code",
   "execution_count": 18,
   "metadata": {},
   "outputs": [],
   "source": [
    "b0 = (\"B\", \"D\", 1)\n",
    "b = (\"A\", \"D\", 1)\n",
    "demand_data = (b0, b)\n",
    "\n",
    "graph2 = paminco.Network(\n",
    "    edge_data, \n",
    "    demand_data=demand_data, \n",
    "    kw_demand={\"mode\": \"affine\"}\n",
    ")"
   ]
  },
  {
   "cell_type": "markdown",
   "metadata": {},
   "source": [
    "This graph now has a demand part that is independent of the demand multiplier:"
   ]
  },
  {
   "cell_type": "code",
   "execution_count": 19,
   "metadata": {},
   "outputs": [
    {
     "data": {
      "text/plain": [
       "array([[ 0.],\n",
       "       [-1.],\n",
       "       [ 0.],\n",
       "       [ 1.]])"
      ]
     },
     "execution_count": 19,
     "metadata": {},
     "output_type": "execute_result"
    }
   ],
   "source": [
    "graph2.h(0).toarray()"
   ]
  },
  {
   "cell_type": "markdown",
   "metadata": {},
   "source": [
    "and one that scales linearly with it:"
   ]
  },
  {
   "cell_type": "code",
   "execution_count": 20,
   "metadata": {},
   "outputs": [
    {
     "data": {
      "text/plain": [
       "array([[-7.],\n",
       "       [-1.],\n",
       "       [ 0.],\n",
       "       [ 8.]])"
      ]
     },
     "execution_count": 20,
     "metadata": {},
     "output_type": "execute_result"
    }
   ],
   "source": [
    "graph2.h(7).toarray()"
   ]
  },
  {
   "cell_type": "markdown",
   "metadata": {},
   "source": [
    "We can think of calling this affine demand function with $\\lambda = 7$ as sending 7 units from $A$ to $D$ and 1 unit from $B$ to $D$, resuilting in total 8 units in the sink $D$."
   ]
  }
 ],
 "metadata": {
  "interpreter": {
   "hash": "219b3df7192d91ed2c6095be311216c9c65acbd817ae748f854d329ca7110587"
  },
  "kernelspec": {
   "display_name": "Python 3.8.8 64-bit ('flowing': conda)",
   "language": "python",
   "name": "python3"
  },
  "language_info": {
   "codemirror_mode": {
    "name": "ipython",
    "version": 3
   },
   "file_extension": ".py",
   "mimetype": "text/x-python",
   "name": "python",
   "nbconvert_exporter": "python",
   "pygments_lexer": "ipython3",
   "version": "3.8.8"
  },
  "orig_nbformat": 4
 },
 "nbformat": 4,
 "nbformat_minor": 2
}
