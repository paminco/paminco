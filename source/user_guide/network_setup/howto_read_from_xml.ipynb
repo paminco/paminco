{
 "cells": [
  {
   "cell_type": "code",
   "execution_count": 1,
   "metadata": {},
   "outputs": [],
   "source": [
    "import sys\n",
    "REL_DIR  = \"../../../..\"\n",
    "sys.path.append(REL_DIR)"
   ]
  },
  {
   "cell_type": "markdown",
   "metadata": {},
   "source": [
    "# How to read data from XML"
   ]
  },
  {
   "cell_type": "markdown",
   "metadata": {},
   "source": [
    "For paminco, we chose XML as our standard data format for networks. An XML file specifies edges (obligatory), nodes (optional), edge cost (optional) and commodities (optional). "
   ]
  },
  {
   "cell_type": "markdown",
   "metadata": {},
   "source": [
    "## 1. Read edges and Nodes"
   ]
  },
  {
   "cell_type": "markdown",
   "metadata": {},
   "source": [
    "### 1.1 From -> to"
   ]
  },
  {
   "cell_type": "markdown",
   "metadata": {},
   "source": [
    "We start by specyfying and reading in only the egde data. "
   ]
  },
  {
   "cell_type": "code",
   "execution_count": 2,
   "metadata": {},
   "outputs": [
    {
     "data": {
      "text/html": [
       "<div>\n",
       "<style scoped>\n",
       "    .dataframe tbody tr th:only-of-type {\n",
       "        vertical-align: middle;\n",
       "    }\n",
       "\n",
       "    .dataframe tbody tr th {\n",
       "        vertical-align: top;\n",
       "    }\n",
       "\n",
       "    .dataframe thead th {\n",
       "        text-align: right;\n",
       "    }\n",
       "</style>\n",
       "<table border=\"1\" class=\"dataframe\">\n",
       "  <thead>\n",
       "    <tr style=\"text-align: right;\">\n",
       "      <th></th>\n",
       "      <th>source_lbl</th>\n",
       "      <th>target_lbl</th>\n",
       "      <th>s</th>\n",
       "      <th>t</th>\n",
       "      <th>lb</th>\n",
       "      <th>ub</th>\n",
       "    </tr>\n",
       "  </thead>\n",
       "  <tbody>\n",
       "    <tr>\n",
       "      <th>0</th>\n",
       "      <td>A</td>\n",
       "      <td>B</td>\n",
       "      <td>0</td>\n",
       "      <td>1</td>\n",
       "      <td>0.0</td>\n",
       "      <td>inf</td>\n",
       "    </tr>\n",
       "    <tr>\n",
       "      <th>1</th>\n",
       "      <td>A</td>\n",
       "      <td>C</td>\n",
       "      <td>0</td>\n",
       "      <td>2</td>\n",
       "      <td>0.0</td>\n",
       "      <td>inf</td>\n",
       "    </tr>\n",
       "    <tr>\n",
       "      <th>2</th>\n",
       "      <td>B</td>\n",
       "      <td>C</td>\n",
       "      <td>1</td>\n",
       "      <td>2</td>\n",
       "      <td>0.0</td>\n",
       "      <td>inf</td>\n",
       "    </tr>\n",
       "    <tr>\n",
       "      <th>3</th>\n",
       "      <td>B</td>\n",
       "      <td>D</td>\n",
       "      <td>1</td>\n",
       "      <td>3</td>\n",
       "      <td>0.0</td>\n",
       "      <td>inf</td>\n",
       "    </tr>\n",
       "    <tr>\n",
       "      <th>4</th>\n",
       "      <td>C</td>\n",
       "      <td>D</td>\n",
       "      <td>2</td>\n",
       "      <td>3</td>\n",
       "      <td>0.0</td>\n",
       "      <td>inf</td>\n",
       "    </tr>\n",
       "  </tbody>\n",
       "</table>\n",
       "</div>"
      ],
      "text/plain": [
       "  source_lbl target_lbl  s  t   lb   ub\n",
       "0          A          B  0  1  0.0  inf\n",
       "1          A          C  0  2  0.0  inf\n",
       "2          B          C  1  2  0.0  inf\n",
       "3          B          D  1  3  0.0  inf\n",
       "4          C          D  2  3  0.0  inf"
      ]
     },
     "execution_count": 2,
     "metadata": {},
     "output_type": "execute_result"
    }
   ],
   "source": [
    "import paminco\n",
    "\n",
    "xml1 = \\\n",
    "\"\"\"\n",
    "<network>\n",
    "  <edges>\n",
    "    <edge from=\"A\" to=\"B\"></edge>\n",
    "    <edge from=\"A\" to=\"C\"></edge>\n",
    "    <edge from=\"B\" to=\"C\"></edge>\n",
    "    <edge from=\"B\" to=\"D\"></edge>\n",
    "    <edge from=\"C\" to=\"D\"></edge>\n",
    "  </edges>\n",
    "</network>\n",
    "\"\"\"\n",
    "edges = paminco.net.Edges.from_xml(xml1)\n",
    "edges.to_df()"
   ]
  },
  {
   "cell_type": "markdown",
   "metadata": {},
   "source": [
    "### 1.2 Edge bounds"
   ]
  },
  {
   "cell_type": "markdown",
   "metadata": {},
   "source": [
    "By default, paminco constructs directed edges with bounds ``(0, infinity)``. \n",
    "However, we can specify them in the XML file:"
   ]
  },
  {
   "cell_type": "code",
   "execution_count": 3,
   "metadata": {},
   "outputs": [
    {
     "data": {
      "text/html": [
       "<div>\n",
       "<style scoped>\n",
       "    .dataframe tbody tr th:only-of-type {\n",
       "        vertical-align: middle;\n",
       "    }\n",
       "\n",
       "    .dataframe tbody tr th {\n",
       "        vertical-align: top;\n",
       "    }\n",
       "\n",
       "    .dataframe thead th {\n",
       "        text-align: right;\n",
       "    }\n",
       "</style>\n",
       "<table border=\"1\" class=\"dataframe\">\n",
       "  <thead>\n",
       "    <tr style=\"text-align: right;\">\n",
       "      <th></th>\n",
       "      <th>source_lbl</th>\n",
       "      <th>target_lbl</th>\n",
       "      <th>s</th>\n",
       "      <th>t</th>\n",
       "      <th>lb</th>\n",
       "      <th>ub</th>\n",
       "    </tr>\n",
       "  </thead>\n",
       "  <tbody>\n",
       "    <tr>\n",
       "      <th>0</th>\n",
       "      <td>A</td>\n",
       "      <td>B</td>\n",
       "      <td>0</td>\n",
       "      <td>1</td>\n",
       "      <td>0.0</td>\n",
       "      <td>200.0</td>\n",
       "    </tr>\n",
       "    <tr>\n",
       "      <th>1</th>\n",
       "      <td>A</td>\n",
       "      <td>C</td>\n",
       "      <td>0</td>\n",
       "      <td>2</td>\n",
       "      <td>-200.0</td>\n",
       "      <td>200.0</td>\n",
       "    </tr>\n",
       "    <tr>\n",
       "      <th>2</th>\n",
       "      <td>B</td>\n",
       "      <td>C</td>\n",
       "      <td>1</td>\n",
       "      <td>2</td>\n",
       "      <td>10.0</td>\n",
       "      <td>11.0</td>\n",
       "    </tr>\n",
       "    <tr>\n",
       "      <th>3</th>\n",
       "      <td>B</td>\n",
       "      <td>D</td>\n",
       "      <td>1</td>\n",
       "      <td>3</td>\n",
       "      <td>1.0</td>\n",
       "      <td>1.1</td>\n",
       "    </tr>\n",
       "    <tr>\n",
       "      <th>4</th>\n",
       "      <td>C</td>\n",
       "      <td>D</td>\n",
       "      <td>2</td>\n",
       "      <td>3</td>\n",
       "      <td>-5.0</td>\n",
       "      <td>3.0</td>\n",
       "    </tr>\n",
       "  </tbody>\n",
       "</table>\n",
       "</div>"
      ],
      "text/plain": [
       "  source_lbl target_lbl  s  t     lb     ub\n",
       "0          A          B  0  1    0.0  200.0\n",
       "1          A          C  0  2 -200.0  200.0\n",
       "2          B          C  1  2   10.0   11.0\n",
       "3          B          D  1  3    1.0    1.1\n",
       "4          C          D  2  3   -5.0    3.0"
      ]
     },
     "execution_count": 3,
     "metadata": {},
     "output_type": "execute_result"
    }
   ],
   "source": [
    "xml2 = \\\n",
    "\"\"\"\n",
    "<network>\n",
    "  <edges>\n",
    "    <edge from=\"A\" to=\"B\" lb=\"0\" ub=\"200\"></edge>\n",
    "    <edge from=\"A\" to=\"C\" lb=\"-200\" ub=\"200\"></edge>\n",
    "    <edge from=\"B\" to=\"C\" lb=\"10\" ub=\"11\"></edge>\n",
    "    <edge from=\"B\" to=\"D\" lb=\"1\" ub=\"1.1\"></edge>\n",
    "    <edge from=\"C\" to=\"D\" lb=\"-5\" ub=\"3\"></edge>\n",
    "  </edges>\n",
    "</network>\n",
    "\"\"\"\n",
    "edges = paminco.net.Edges.from_xml(xml2)\n",
    "edges.to_df()"
   ]
  },
  {
   "cell_type": "markdown",
   "metadata": {},
   "source": [
    "### 1.3 Node attributes"
   ]
  },
  {
   "cell_type": "markdown",
   "metadata": {},
   "source": [
    "We can add a ``<nodes>`` tag to the XML and define node locations:"
   ]
  },
  {
   "cell_type": "code",
   "execution_count": 4,
   "metadata": {},
   "outputs": [],
   "source": [
    "xml3 = \\\n",
    "\"\"\"\n",
    "<network>\n",
    "  <nodes>\n",
    "    <node node=\"A\" x=\"0\" y=\"0\"/>\n",
    "    <node node=\"B\" x=\"0\" y=\"3\"/>\n",
    "    <node node=\"C\" x=\"3\" y=\"0\"/>\n",
    "    <node node=\"D\" x=\"3\" y=\"3\"/>\n",
    "  </nodes>\n",
    "  <edges>\n",
    "    <edge from=\"A\" to=\"B\"></edge>\n",
    "    <edge from=\"A\" to=\"C\"></edge>\n",
    "    <edge from=\"B\" to=\"C\"></edge>\n",
    "    <edge from=\"B\" to=\"D\"></edge>\n",
    "    <edge from=\"C\" to=\"D\"></edge>\n",
    "  </edges>\n",
    "</network>\n",
    "\"\"\""
   ]
  },
  {
   "cell_type": "code",
   "execution_count": 5,
   "metadata": {},
   "outputs": [
    {
     "data": {
      "text/html": [
       "<div>\n",
       "<style scoped>\n",
       "    .dataframe tbody tr th:only-of-type {\n",
       "        vertical-align: middle;\n",
       "    }\n",
       "\n",
       "    .dataframe tbody tr th {\n",
       "        vertical-align: top;\n",
       "    }\n",
       "\n",
       "    .dataframe thead th {\n",
       "        text-align: right;\n",
       "    }\n",
       "</style>\n",
       "<table border=\"1\" class=\"dataframe\">\n",
       "  <thead>\n",
       "    <tr style=\"text-align: right;\">\n",
       "      <th></th>\n",
       "      <th>label</th>\n",
       "      <th>zone</th>\n",
       "      <th>x</th>\n",
       "      <th>y</th>\n",
       "    </tr>\n",
       "  </thead>\n",
       "  <tbody>\n",
       "    <tr>\n",
       "      <th>0</th>\n",
       "      <td>A</td>\n",
       "      <td>False</td>\n",
       "      <td>0.0</td>\n",
       "      <td>0.0</td>\n",
       "    </tr>\n",
       "    <tr>\n",
       "      <th>1</th>\n",
       "      <td>B</td>\n",
       "      <td>False</td>\n",
       "      <td>0.0</td>\n",
       "      <td>3.0</td>\n",
       "    </tr>\n",
       "    <tr>\n",
       "      <th>2</th>\n",
       "      <td>C</td>\n",
       "      <td>False</td>\n",
       "      <td>3.0</td>\n",
       "      <td>0.0</td>\n",
       "    </tr>\n",
       "    <tr>\n",
       "      <th>3</th>\n",
       "      <td>D</td>\n",
       "      <td>False</td>\n",
       "      <td>3.0</td>\n",
       "      <td>3.0</td>\n",
       "    </tr>\n",
       "  </tbody>\n",
       "</table>\n",
       "</div>"
      ],
      "text/plain": [
       "  label   zone    x    y\n",
       "0     A  False  0.0  0.0\n",
       "1     B  False  0.0  3.0\n",
       "2     C  False  3.0  0.0\n",
       "3     D  False  3.0  3.0"
      ]
     },
     "execution_count": 5,
     "metadata": {},
     "output_type": "execute_result"
    }
   ],
   "source": [
    "nodes = paminco.net.Nodes.from_xml(xml3)\n",
    "nodes.to_df()"
   ]
  },
  {
   "cell_type": "markdown",
   "metadata": {},
   "source": [
    "## 2. Read commodities"
   ]
  },
  {
   "cell_type": "code",
   "execution_count": 6,
   "metadata": {},
   "outputs": [
    {
     "data": {
      "text/plain": [
       "CommodityMultiSourceSink @ 0x1e5ecf7e400\n",
       "1 : -160.0\n",
       "2 : -60.0\n",
       "7 : 100.0\n",
       "14 : 120.0"
      ]
     },
     "execution_count": 6,
     "metadata": {},
     "output_type": "execute_result"
    }
   ],
   "source": [
    "xml4 = \\\n",
    "\"\"\"\n",
    "<network>\n",
    "  <commodities>\n",
    "    <commodity>\n",
    "      <b node=\"1\" value=\"-160.0\"/>\n",
    "      <b node=\"2\" value=\"-60.0\"/>\n",
    "      <b node=\"7\" value=\"100.0\"/>\n",
    "      <b node=\"14\" value=\"120.0\"/>\n",
    "    </commodity>\n",
    "  </commodities>\n",
    "  <edges>\n",
    "    <edge from=\"A\" to=\"B\"></edge>\n",
    "    <edge from=\"A\" to=\"C\"></edge>\n",
    "    <edge from=\"B\" to=\"C\"></edge>\n",
    "    <edge from=\"B\" to=\"D\"></edge>\n",
    "    <edge from=\"C\" to=\"D\"></edge>\n",
    "  </edges>\n",
    "</network>\n",
    "\"\"\"\n",
    "\n",
    "dv = paminco.net.demand_vector(xml4, is_label=False)\n",
    "dv.commodities[0]"
   ]
  },
  {
   "cell_type": "code",
   "execution_count": 10,
   "metadata": {},
   "outputs": [],
   "source": [
    "a = {\n",
    "    1 : -160.0,\n",
    "2 : -60.0,\n",
    "7 : 100.0,\n",
    "14 : 120.0,\n",
    "}"
   ]
  },
  {
   "cell_type": "code",
   "execution_count": 7,
   "metadata": {},
   "outputs": [
    {
     "name": "stdout",
     "output_type": "stream",
     "text": [
      "\n",
      "'A' (0): 8\n",
      "'B' (1): 17\n",
      "'C' (2): -25\n"
     ]
    }
   ],
   "source": [
    "labels = [\"A\", \"B\", \"C\"]\n",
    "indices = [0, 1, 2]\n",
    "rates = [8, 17, -25]\n",
    "\n",
    "out = \"\"\n",
    "for i in range(3):\n",
    "    out += f\"\\n'{labels[i]}' ({indices[i]}): {rates[i]}\"\n",
    "    \n",
    "print(out)"
   ]
  },
  {
   "cell_type": "code",
   "execution_count": 8,
   "metadata": {},
   "outputs": [
    {
     "data": {
      "text/plain": [
       "dict_items([('Invalid', 120.0)])"
      ]
     },
     "execution_count": 8,
     "metadata": {},
     "output_type": "execute_result"
    }
   ],
   "source": [
    "dv = paminco.net.demand_vector(xml4, is_label=False)\n",
    "self = dv.commodities[0]\n",
    "items = (\"'%s' : %r\" % (k, v) for k, v in self.to_dict().items())\n",
    "'\\n'.join(items)\n",
    "self.to_dict().items()"
   ]
  },
  {
   "cell_type": "code",
   "execution_count": 9,
   "metadata": {},
   "outputs": [
    {
     "data": {
      "text/plain": [
       "True"
      ]
     },
     "execution_count": 9,
     "metadata": {},
     "output_type": "execute_result"
    }
   ],
   "source": [
    "from paminco.net.shared import Shared, ID_UNMAPPED, LBL_UNMAPPED\n",
    "LBL_UNMAPPED in self._node_labels"
   ]
  },
  {
   "cell_type": "markdown",
   "metadata": {},
   "source": [
    "## 3. Read edge cost"
   ]
  },
  {
   "cell_type": "markdown",
   "metadata": {},
   "source": [
    "### 3.1 Polynomial cost"
   ]
  },
  {
   "cell_type": "markdown",
   "metadata": {},
   "source": [
    "### 3.2 Piecewise quadratic cost"
   ]
  },
  {
   "cell_type": "markdown",
   "metadata": {},
   "source": [
    "## 4. Read the whole network"
   ]
  }
 ],
 "metadata": {
  "interpreter": {
   "hash": "219b3df7192d91ed2c6095be311216c9c65acbd817ae748f854d329ca7110587"
  },
  "kernelspec": {
   "display_name": "Python 3.8.8 64-bit ('flowing': conda)",
   "language": "python",
   "name": "python3"
  },
  "language_info": {
   "codemirror_mode": {
    "name": "ipython",
    "version": 3
   },
   "file_extension": ".py",
   "mimetype": "text/x-python",
   "name": "python",
   "nbconvert_exporter": "python",
   "pygments_lexer": "ipython3",
   "version": "3.8.8"
  },
  "orig_nbformat": 4
 },
 "nbformat": 4,
 "nbformat_minor": 2
}
